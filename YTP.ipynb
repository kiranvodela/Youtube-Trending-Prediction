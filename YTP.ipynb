{
 "cells": [
  {
   "cell_type": "code",
   "execution_count": 26,
   "metadata": {},
   "outputs": [],
   "source": [
    "#Naive Bayes\n",
    "\n",
    "# Importing the libraries\n",
    "import numpy as np\n",
    "import matplotlib.pyplot as plt\n",
    "import pandas as pd"
   ]
  },
  {
   "cell_type": "code",
   "execution_count": 37,
   "metadata": {
    "scrolled": true
   },
   "outputs": [],
   "source": [
    "# Importing the dataset\n",
    "dataset = pd.read_csv('C:/Users/Lenovo/Downloads/temp.csv')\n"
   ]
  },
  {
   "cell_type": "code",
   "execution_count": 38,
   "metadata": {},
   "outputs": [
    {
     "data": {
      "text/html": [
       "<div>\n",
       "<style scoped>\n",
       "    .dataframe tbody tr th:only-of-type {\n",
       "        vertical-align: middle;\n",
       "    }\n",
       "\n",
       "    .dataframe tbody tr th {\n",
       "        vertical-align: top;\n",
       "    }\n",
       "\n",
       "    .dataframe thead th {\n",
       "        text-align: right;\n",
       "    }\n",
       "</style>\n",
       "<table border=\"1\" class=\"dataframe\">\n",
       "  <thead>\n",
       "    <tr style=\"text-align: right;\">\n",
       "      <th></th>\n",
       "      <th>Views</th>\n",
       "      <th>Likes</th>\n",
       "      <th>Dislikes</th>\n",
       "      <th>Comments</th>\n",
       "      <th>Shares</th>\n",
       "      <th>Result</th>\n",
       "    </tr>\n",
       "  </thead>\n",
       "  <tbody>\n",
       "    <tr>\n",
       "      <th>95</th>\n",
       "      <td>2848</td>\n",
       "      <td>679</td>\n",
       "      <td>585</td>\n",
       "      <td>506</td>\n",
       "      <td>1033</td>\n",
       "      <td>0</td>\n",
       "    </tr>\n",
       "    <tr>\n",
       "      <th>96</th>\n",
       "      <td>5517</td>\n",
       "      <td>361</td>\n",
       "      <td>647</td>\n",
       "      <td>234</td>\n",
       "      <td>1382</td>\n",
       "      <td>1</td>\n",
       "    </tr>\n",
       "    <tr>\n",
       "      <th>97</th>\n",
       "      <td>6190</td>\n",
       "      <td>171</td>\n",
       "      <td>802</td>\n",
       "      <td>1377</td>\n",
       "      <td>207</td>\n",
       "      <td>1</td>\n",
       "    </tr>\n",
       "    <tr>\n",
       "      <th>98</th>\n",
       "      <td>9867</td>\n",
       "      <td>361</td>\n",
       "      <td>477</td>\n",
       "      <td>808</td>\n",
       "      <td>1215</td>\n",
       "      <td>1</td>\n",
       "    </tr>\n",
       "    <tr>\n",
       "      <th>99</th>\n",
       "      <td>5779</td>\n",
       "      <td>545</td>\n",
       "      <td>317</td>\n",
       "      <td>1166</td>\n",
       "      <td>1279</td>\n",
       "      <td>1</td>\n",
       "    </tr>\n",
       "  </tbody>\n",
       "</table>\n",
       "</div>"
      ],
      "text/plain": [
       "    Views  Likes  Dislikes  Comments  Shares  Result\n",
       "95   2848    679       585       506    1033       0\n",
       "96   5517    361       647       234    1382       1\n",
       "97   6190    171       802      1377     207       1\n",
       "98   9867    361       477       808    1215       1\n",
       "99   5779    545       317      1166    1279       1"
      ]
     },
     "execution_count": 38,
     "metadata": {},
     "output_type": "execute_result"
    }
   ],
   "source": [
    "dataset.tail()"
   ]
  },
  {
   "cell_type": "code",
   "execution_count": 39,
   "metadata": {},
   "outputs": [
    {
     "data": {
      "text/plain": [
       "Views       int64\n",
       "Likes       int64\n",
       "Dislikes    int64\n",
       "Comments    int64\n",
       "Shares      int64\n",
       "Result      int64\n",
       "dtype: object"
      ]
     },
     "execution_count": 39,
     "metadata": {},
     "output_type": "execute_result"
    }
   ],
   "source": [
    "#seeind the values\n",
    "dataset.dtypes\n"
   ]
  },
  {
   "cell_type": "code",
   "execution_count": 40,
   "metadata": {},
   "outputs": [
    {
     "data": {
      "text/plain": [
       "Views       5867.16\n",
       "Likes        500.27\n",
       "Dislikes     467.57\n",
       "Comments     823.62\n",
       "Shares       796.18\n",
       "Result         0.68\n",
       "dtype: float64"
      ]
     },
     "execution_count": 40,
     "metadata": {},
     "output_type": "execute_result"
    }
   ],
   "source": [
    "dataset.mean()"
   ]
  },
  {
   "cell_type": "code",
   "execution_count": 41,
   "metadata": {},
   "outputs": [],
   "source": [
    "df1 = dataset[:100]"
   ]
  },
  {
   "cell_type": "code",
   "execution_count": 42,
   "metadata": {},
   "outputs": [
    {
     "data": {
      "text/html": [
       "<div>\n",
       "<style scoped>\n",
       "    .dataframe tbody tr th:only-of-type {\n",
       "        vertical-align: middle;\n",
       "    }\n",
       "\n",
       "    .dataframe tbody tr th {\n",
       "        vertical-align: top;\n",
       "    }\n",
       "\n",
       "    .dataframe thead th {\n",
       "        text-align: right;\n",
       "    }\n",
       "</style>\n",
       "<table border=\"1\" class=\"dataframe\">\n",
       "  <thead>\n",
       "    <tr style=\"text-align: right;\">\n",
       "      <th></th>\n",
       "      <th>Views</th>\n",
       "      <th>Likes</th>\n",
       "      <th>Dislikes</th>\n",
       "      <th>Comments</th>\n",
       "      <th>Shares</th>\n",
       "      <th>Result</th>\n",
       "    </tr>\n",
       "  </thead>\n",
       "  <tbody>\n",
       "    <tr>\n",
       "      <th>0</th>\n",
       "      <td>5715</td>\n",
       "      <td>446</td>\n",
       "      <td>190</td>\n",
       "      <td>1365</td>\n",
       "      <td>898</td>\n",
       "      <td>1</td>\n",
       "    </tr>\n",
       "    <tr>\n",
       "      <th>1</th>\n",
       "      <td>2241</td>\n",
       "      <td>589</td>\n",
       "      <td>254</td>\n",
       "      <td>489</td>\n",
       "      <td>687</td>\n",
       "      <td>0</td>\n",
       "    </tr>\n",
       "    <tr>\n",
       "      <th>2</th>\n",
       "      <td>3192</td>\n",
       "      <td>936</td>\n",
       "      <td>3</td>\n",
       "      <td>1480</td>\n",
       "      <td>498</td>\n",
       "      <td>0</td>\n",
       "    </tr>\n",
       "    <tr>\n",
       "      <th>3</th>\n",
       "      <td>9527</td>\n",
       "      <td>849</td>\n",
       "      <td>20</td>\n",
       "      <td>1308</td>\n",
       "      <td>1463</td>\n",
       "      <td>1</td>\n",
       "    </tr>\n",
       "    <tr>\n",
       "      <th>4</th>\n",
       "      <td>7654</td>\n",
       "      <td>425</td>\n",
       "      <td>101</td>\n",
       "      <td>1477</td>\n",
       "      <td>1240</td>\n",
       "      <td>1</td>\n",
       "    </tr>\n",
       "    <tr>\n",
       "      <th>...</th>\n",
       "      <td>...</td>\n",
       "      <td>...</td>\n",
       "      <td>...</td>\n",
       "      <td>...</td>\n",
       "      <td>...</td>\n",
       "      <td>...</td>\n",
       "    </tr>\n",
       "    <tr>\n",
       "      <th>95</th>\n",
       "      <td>2848</td>\n",
       "      <td>679</td>\n",
       "      <td>585</td>\n",
       "      <td>506</td>\n",
       "      <td>1033</td>\n",
       "      <td>0</td>\n",
       "    </tr>\n",
       "    <tr>\n",
       "      <th>96</th>\n",
       "      <td>5517</td>\n",
       "      <td>361</td>\n",
       "      <td>647</td>\n",
       "      <td>234</td>\n",
       "      <td>1382</td>\n",
       "      <td>1</td>\n",
       "    </tr>\n",
       "    <tr>\n",
       "      <th>97</th>\n",
       "      <td>6190</td>\n",
       "      <td>171</td>\n",
       "      <td>802</td>\n",
       "      <td>1377</td>\n",
       "      <td>207</td>\n",
       "      <td>1</td>\n",
       "    </tr>\n",
       "    <tr>\n",
       "      <th>98</th>\n",
       "      <td>9867</td>\n",
       "      <td>361</td>\n",
       "      <td>477</td>\n",
       "      <td>808</td>\n",
       "      <td>1215</td>\n",
       "      <td>1</td>\n",
       "    </tr>\n",
       "    <tr>\n",
       "      <th>99</th>\n",
       "      <td>5779</td>\n",
       "      <td>545</td>\n",
       "      <td>317</td>\n",
       "      <td>1166</td>\n",
       "      <td>1279</td>\n",
       "      <td>1</td>\n",
       "    </tr>\n",
       "  </tbody>\n",
       "</table>\n",
       "<p>100 rows × 6 columns</p>\n",
       "</div>"
      ],
      "text/plain": [
       "    Views  Likes  Dislikes  Comments  Shares  Result\n",
       "0    5715    446       190      1365     898       1\n",
       "1    2241    589       254       489     687       0\n",
       "2    3192    936         3      1480     498       0\n",
       "3    9527    849        20      1308    1463       1\n",
       "4    7654    425       101      1477    1240       1\n",
       "..    ...    ...       ...       ...     ...     ...\n",
       "95   2848    679       585       506    1033       0\n",
       "96   5517    361       647       234    1382       1\n",
       "97   6190    171       802      1377     207       1\n",
       "98   9867    361       477       808    1215       1\n",
       "99   5779    545       317      1166    1279       1\n",
       "\n",
       "[100 rows x 6 columns]"
      ]
     },
     "execution_count": 42,
     "metadata": {},
     "output_type": "execute_result"
    }
   ],
   "source": [
    "df1"
   ]
  },
  {
   "cell_type": "code",
   "execution_count": 43,
   "metadata": {},
   "outputs": [
    {
     "data": {
      "text/plain": [
       "Views       5867.16\n",
       "Likes        500.27\n",
       "Dislikes     467.57\n",
       "Comments     823.62\n",
       "Shares       796.18\n",
       "Result         0.68\n",
       "dtype: float64"
      ]
     },
     "execution_count": 43,
     "metadata": {},
     "output_type": "execute_result"
    }
   ],
   "source": [
    "df1.mean()"
   ]
  },
  {
   "cell_type": "code",
   "execution_count": 44,
   "metadata": {},
   "outputs": [
    {
     "data": {
      "text/plain": [
       "array([[<AxesSubplot:title={'center':'Views'}>,\n",
       "        <AxesSubplot:title={'center':'Likes'}>],\n",
       "       [<AxesSubplot:title={'center':'Dislikes'}>,\n",
       "        <AxesSubplot:title={'center':'Comments'}>],\n",
       "       [<AxesSubplot:title={'center':'Shares'}>,\n",
       "        <AxesSubplot:title={'center':'Result'}>]], dtype=object)"
      ]
     },
     "execution_count": 44,
     "metadata": {},
     "output_type": "execute_result"
    },
    {
     "data": {
      "image/png": "[encoded data removed]",
      "text/plain": [
       "<Figure size 432x288 with 6 Axes>"
      ]
     },
     "metadata": {
      "needs_background": "light"
     },
     "output_type": "display_data"
    }
   ],
   "source": [
    "#seeing data distribution\n",
    "dataset.hist()"
   ]
  },
  {
   "cell_type": "code",
   "execution_count": 45,
   "metadata": {},
   "outputs": [
    {
     "data": {
      "text/plain": [
       "Result\n",
       "0    [[AxesSubplot(0.125,0.670278;0.336957x0.209722...\n",
       "1    [[AxesSubplot(0.125,0.670278;0.336957x0.209722...\n",
       "dtype: object"
      ]
     },
     "execution_count": 45,
     "metadata": {},
     "output_type": "execute_result"
    },
    {
     "data": {
      "image/png": "[encoded data removed]",
      "text/plain": [
       "<Figure size 432x288 with 6 Axes>"
      ]
     },
     "metadata": {
      "needs_background": "light"
     },
     "output_type": "display_data"
    },
    {
     "data": {
      "image/png": "[encoded data removed]",
      "text/plain": [
       "<Figure size 432x288 with 6 Axes>"
      ]
     },
     "metadata": {
      "needs_background": "light"
     },
     "output_type": "display_data"
    }
   ],
   "source": [
    "#feature class relationship\n",
    "dataset.groupby('Result').hist()"
   ]
  },
  {
   "cell_type": "code",
   "execution_count": 46,
   "metadata": {},
   "outputs": [
    {
     "data": {
      "text/plain": [
       "0     False\n",
       "1     False\n",
       "2     False\n",
       "3     False\n",
       "4     False\n",
       "      ...  \n",
       "95    False\n",
       "96    False\n",
       "97    False\n",
       "98    False\n",
       "99    False\n",
       "Name: Views, Length: 100, dtype: bool"
      ]
     },
     "execution_count": 46,
     "metadata": {},
     "output_type": "execute_result"
    }
   ],
   "source": [
    "#data preparation\n",
    "#seeing for missing values\n",
    "dataset['Views'].isnull()"
   ]
  },
  {
   "cell_type": "code",
   "execution_count": 49,
   "metadata": {},
   "outputs": [
    {
     "data": {
      "text/plain": [
       "0"
      ]
     },
     "execution_count": 49,
     "metadata": {},
     "output_type": "execute_result"
    }
   ],
   "source": [
    "#summarizing missing values\n",
    "dataset['Views'].isnull().sum()"
   ]
  },
  {
   "cell_type": "code",
   "execution_count": 51,
   "metadata": {},
   "outputs": [
    {
     "data": {
      "text/plain": [
       "Views       0\n",
       "Likes       0\n",
       "Dislikes    0\n",
       "Comments    0\n",
       "Shares      0\n",
       "Result      0\n",
       "dtype: int64"
      ]
     },
     "execution_count": 51,
     "metadata": {},
     "output_type": "execute_result"
    }
   ],
   "source": [
    "dataset.isnull().sum()"
   ]
  },
  {
   "cell_type": "code",
   "execution_count": 52,
   "metadata": {},
   "outputs": [
    {
     "data": {
      "text/plain": [
       "<AxesSubplot:>"
      ]
     },
     "execution_count": 52,
     "metadata": {},
     "output_type": "execute_result"
    },
    {
     "data": {
      "image/png": "[encoded data removed]",
      "text/plain": [
       "<Figure size 432x288 with 1 Axes>"
      ]
     },
     "metadata": {
      "needs_background": "light"
     },
     "output_type": "display_data"
    }
   ],
   "source": [
    "#outlier detection\n",
    "dataset.boxplot()"
   ]
  },
  {
   "cell_type": "code",
   "execution_count": 53,
   "metadata": {},
   "outputs": [
    {
     "data": {
      "text/plain": [
       "<AxesSubplot:ylabel='Likes'>"
      ]
     },
     "execution_count": 53,
     "metadata": {},
     "output_type": "execute_result"
    },
    {
     "data": {
      "image/png": "[encoded data removed]",
      "text/plain": [
       "<Figure size 432x288 with 1 Axes>"
      ]
     },
     "metadata": {
      "needs_background": "light"
     },
     "output_type": "display_data"
    }
   ],
   "source": [
    "import seaborn as sns\n",
    "sns.boxplot(y=dataset['Likes'])"
   ]
  },
  {
   "cell_type": "code",
   "execution_count": 56,
   "metadata": {},
   "outputs": [
    {
     "data": {
      "text/html": [
       "<div>\n",
       "<style scoped>\n",
       "    .dataframe tbody tr th:only-of-type {\n",
       "        vertical-align: middle;\n",
       "    }\n",
       "\n",
       "    .dataframe tbody tr th {\n",
       "        vertical-align: top;\n",
       "    }\n",
       "\n",
       "    .dataframe thead th {\n",
       "        text-align: right;\n",
       "    }\n",
       "</style>\n",
       "<table border=\"1\" class=\"dataframe\">\n",
       "  <thead>\n",
       "    <tr style=\"text-align: right;\">\n",
       "      <th></th>\n",
       "      <th>Views</th>\n",
       "      <th>Likes</th>\n",
       "      <th>Dislikes</th>\n",
       "      <th>Comments</th>\n",
       "      <th>Shares</th>\n",
       "      <th>Result</th>\n",
       "    </tr>\n",
       "  </thead>\n",
       "  <tbody>\n",
       "    <tr>\n",
       "      <th>Views</th>\n",
       "      <td>1.000000</td>\n",
       "      <td>-0.070904</td>\n",
       "      <td>-0.143247</td>\n",
       "      <td>0.024727</td>\n",
       "      <td>0.168004</td>\n",
       "      <td>0.808635</td>\n",
       "    </tr>\n",
       "    <tr>\n",
       "      <th>Likes</th>\n",
       "      <td>-0.070904</td>\n",
       "      <td>1.000000</td>\n",
       "      <td>0.032145</td>\n",
       "      <td>0.148192</td>\n",
       "      <td>-0.007961</td>\n",
       "      <td>-0.052704</td>\n",
       "    </tr>\n",
       "    <tr>\n",
       "      <th>Dislikes</th>\n",
       "      <td>-0.143247</td>\n",
       "      <td>0.032145</td>\n",
       "      <td>1.000000</td>\n",
       "      <td>0.028556</td>\n",
       "      <td>0.085705</td>\n",
       "      <td>-0.009469</td>\n",
       "    </tr>\n",
       "    <tr>\n",
       "      <th>Comments</th>\n",
       "      <td>0.024727</td>\n",
       "      <td>0.148192</td>\n",
       "      <td>0.028556</td>\n",
       "      <td>1.000000</td>\n",
       "      <td>0.097771</td>\n",
       "      <td>0.129147</td>\n",
       "    </tr>\n",
       "    <tr>\n",
       "      <th>Shares</th>\n",
       "      <td>0.168004</td>\n",
       "      <td>-0.007961</td>\n",
       "      <td>0.085705</td>\n",
       "      <td>0.097771</td>\n",
       "      <td>1.000000</td>\n",
       "      <td>0.256669</td>\n",
       "    </tr>\n",
       "    <tr>\n",
       "      <th>Result</th>\n",
       "      <td>0.808635</td>\n",
       "      <td>-0.052704</td>\n",
       "      <td>-0.009469</td>\n",
       "      <td>0.129147</td>\n",
       "      <td>0.256669</td>\n",
       "      <td>1.000000</td>\n",
       "    </tr>\n",
       "  </tbody>\n",
       "</table>\n",
       "</div>"
      ],
      "text/plain": [
       "             Views     Likes  Dislikes  Comments    Shares    Result\n",
       "Views     1.000000 -0.070904 -0.143247  0.024727  0.168004  0.808635\n",
       "Likes    -0.070904  1.000000  0.032145  0.148192 -0.007961 -0.052704\n",
       "Dislikes -0.143247  0.032145  1.000000  0.028556  0.085705 -0.009469\n",
       "Comments  0.024727  0.148192  0.028556  1.000000  0.097771  0.129147\n",
       "Shares    0.168004 -0.007961  0.085705  0.097771  1.000000  0.256669\n",
       "Result    0.808635 -0.052704 -0.009469  0.129147  0.256669  1.000000"
      ]
     },
     "execution_count": 56,
     "metadata": {},
     "output_type": "execute_result"
    }
   ],
   "source": [
    "dataset.corr()"
   ]
  },
  {
   "cell_type": "code",
   "execution_count": 57,
   "metadata": {},
   "outputs": [
    {
     "data": {
      "text/html": [
       "<div>\n",
       "<style scoped>\n",
       "    .dataframe tbody tr th:only-of-type {\n",
       "        vertical-align: middle;\n",
       "    }\n",
       "\n",
       "    .dataframe tbody tr th {\n",
       "        vertical-align: top;\n",
       "    }\n",
       "\n",
       "    .dataframe thead th {\n",
       "        text-align: right;\n",
       "    }\n",
       "</style>\n",
       "<table border=\"1\" class=\"dataframe\">\n",
       "  <thead>\n",
       "    <tr style=\"text-align: right;\">\n",
       "      <th>Result</th>\n",
       "      <th>0</th>\n",
       "      <th>1</th>\n",
       "    </tr>\n",
       "    <tr>\n",
       "      <th>Dislikes</th>\n",
       "      <th></th>\n",
       "      <th></th>\n",
       "    </tr>\n",
       "  </thead>\n",
       "  <tbody>\n",
       "    <tr>\n",
       "      <th>3</th>\n",
       "      <td>1</td>\n",
       "      <td>0</td>\n",
       "    </tr>\n",
       "    <tr>\n",
       "      <th>11</th>\n",
       "      <td>0</td>\n",
       "      <td>1</td>\n",
       "    </tr>\n",
       "    <tr>\n",
       "      <th>13</th>\n",
       "      <td>0</td>\n",
       "      <td>1</td>\n",
       "    </tr>\n",
       "    <tr>\n",
       "      <th>20</th>\n",
       "      <td>0</td>\n",
       "      <td>1</td>\n",
       "    </tr>\n",
       "    <tr>\n",
       "      <th>22</th>\n",
       "      <td>0</td>\n",
       "      <td>1</td>\n",
       "    </tr>\n",
       "    <tr>\n",
       "      <th>...</th>\n",
       "      <td>...</td>\n",
       "      <td>...</td>\n",
       "    </tr>\n",
       "    <tr>\n",
       "      <th>932</th>\n",
       "      <td>1</td>\n",
       "      <td>0</td>\n",
       "    </tr>\n",
       "    <tr>\n",
       "      <th>941</th>\n",
       "      <td>0</td>\n",
       "      <td>1</td>\n",
       "    </tr>\n",
       "    <tr>\n",
       "      <th>955</th>\n",
       "      <td>0</td>\n",
       "      <td>1</td>\n",
       "    </tr>\n",
       "    <tr>\n",
       "      <th>988</th>\n",
       "      <td>0</td>\n",
       "      <td>1</td>\n",
       "    </tr>\n",
       "    <tr>\n",
       "      <th>997</th>\n",
       "      <td>0</td>\n",
       "      <td>1</td>\n",
       "    </tr>\n",
       "  </tbody>\n",
       "</table>\n",
       "<p>98 rows × 2 columns</p>\n",
       "</div>"
      ],
      "text/plain": [
       "Result    0  1\n",
       "Dislikes      \n",
       "3         1  0\n",
       "11        0  1\n",
       "13        0  1\n",
       "20        0  1\n",
       "22        0  1\n",
       "...      .. ..\n",
       "932       1  0\n",
       "941       0  1\n",
       "955       0  1\n",
       "988       0  1\n",
       "997       0  1\n",
       "\n",
       "[98 rows x 2 columns]"
      ]
     },
     "execution_count": 57,
     "metadata": {},
     "output_type": "execute_result"
    }
   ],
   "source": [
    "pd.crosstab(dataset['Dislikes'],dataset['Result'])"
   ]
  },
  {
   "cell_type": "code",
   "execution_count": 58,
   "metadata": {},
   "outputs": [
    {
     "data": {
      "text/plain": [
       "(95.40441176470587,\n",
       " 0.4979697164584608,\n",
       " 96,\n",
       " array([[0.32, 0.68],\n",
       "        [0.32, 0.68],\n",
       "        [0.32, 0.68],\n",
       "        [0.32, 0.68],\n",
       "        [0.32, 0.68],\n",
       "        [0.32, 0.68],\n",
       "        [0.32, 0.68],\n",
       "        [0.32, 0.68],\n",
       "        [0.32, 0.68],\n",
       "        [0.32, 0.68],\n",
       "        [0.32, 0.68],\n",
       "        [0.32, 0.68],\n",
       "        [0.32, 0.68],\n",
       "        [0.32, 0.68],\n",
       "        [0.32, 0.68],\n",
       "        [0.32, 0.68],\n",
       "        [0.32, 0.68],\n",
       "        [0.32, 0.68],\n",
       "        [0.64, 1.36],\n",
       "        [0.32, 0.68],\n",
       "        [0.32, 0.68],\n",
       "        [0.32, 0.68],\n",
       "        [0.32, 0.68],\n",
       "        [0.32, 0.68],\n",
       "        [0.32, 0.68],\n",
       "        [0.32, 0.68],\n",
       "        [0.32, 0.68],\n",
       "        [0.32, 0.68],\n",
       "        [0.32, 0.68],\n",
       "        [0.32, 0.68],\n",
       "        [0.32, 0.68],\n",
       "        [0.32, 0.68],\n",
       "        [0.32, 0.68],\n",
       "        [0.32, 0.68],\n",
       "        [0.32, 0.68],\n",
       "        [0.32, 0.68],\n",
       "        [0.64, 1.36],\n",
       "        [0.32, 0.68],\n",
       "        [0.32, 0.68],\n",
       "        [0.32, 0.68],\n",
       "        [0.32, 0.68],\n",
       "        [0.32, 0.68],\n",
       "        [0.32, 0.68],\n",
       "        [0.32, 0.68],\n",
       "        [0.32, 0.68],\n",
       "        [0.32, 0.68],\n",
       "        [0.32, 0.68],\n",
       "        [0.32, 0.68],\n",
       "        [0.32, 0.68],\n",
       "        [0.32, 0.68],\n",
       "        [0.32, 0.68],\n",
       "        [0.32, 0.68],\n",
       "        [0.32, 0.68],\n",
       "        [0.32, 0.68],\n",
       "        [0.32, 0.68],\n",
       "        [0.32, 0.68],\n",
       "        [0.32, 0.68],\n",
       "        [0.32, 0.68],\n",
       "        [0.32, 0.68],\n",
       "        [0.32, 0.68],\n",
       "        [0.32, 0.68],\n",
       "        [0.32, 0.68],\n",
       "        [0.32, 0.68],\n",
       "        [0.32, 0.68],\n",
       "        [0.32, 0.68],\n",
       "        [0.32, 0.68],\n",
       "        [0.32, 0.68],\n",
       "        [0.32, 0.68],\n",
       "        [0.32, 0.68],\n",
       "        [0.32, 0.68],\n",
       "        [0.32, 0.68],\n",
       "        [0.32, 0.68],\n",
       "        [0.32, 0.68],\n",
       "        [0.32, 0.68],\n",
       "        [0.32, 0.68],\n",
       "        [0.32, 0.68],\n",
       "        [0.32, 0.68],\n",
       "        [0.32, 0.68],\n",
       "        [0.32, 0.68],\n",
       "        [0.32, 0.68],\n",
       "        [0.32, 0.68],\n",
       "        [0.32, 0.68],\n",
       "        [0.32, 0.68],\n",
       "        [0.32, 0.68],\n",
       "        [0.32, 0.68],\n",
       "        [0.32, 0.68],\n",
       "        [0.32, 0.68],\n",
       "        [0.32, 0.68],\n",
       "        [0.32, 0.68],\n",
       "        [0.32, 0.68],\n",
       "        [0.32, 0.68],\n",
       "        [0.32, 0.68],\n",
       "        [0.32, 0.68],\n",
       "        [0.32, 0.68],\n",
       "        [0.64, 1.36],\n",
       "        [0.32, 0.68],\n",
       "        [0.32, 0.68]]))"
      ]
     },
     "execution_count": 58,
     "metadata": {},
     "output_type": "execute_result"
    }
   ],
   "source": [
    "from scipy.stats import chi2_contingency\n",
    "chi2_contingency(pd.crosstab(dataset['Comments'],dataset['Result']))"
   ]
  },
  {
   "cell_type": "code",
   "execution_count": 59,
   "metadata": {},
   "outputs": [
    {
     "data": {
      "text/html": [
       "<div>\n",
       "<style scoped>\n",
       "    .dataframe tbody tr th:only-of-type {\n",
       "        vertical-align: middle;\n",
       "    }\n",
       "\n",
       "    .dataframe tbody tr th {\n",
       "        vertical-align: top;\n",
       "    }\n",
       "\n",
       "    .dataframe thead th {\n",
       "        text-align: right;\n",
       "    }\n",
       "</style>\n",
       "<table border=\"1\" class=\"dataframe\">\n",
       "  <thead>\n",
       "    <tr style=\"text-align: right;\">\n",
       "      <th></th>\n",
       "      <th>Views</th>\n",
       "      <th>Likes</th>\n",
       "      <th>Dislikes</th>\n",
       "      <th>Comments</th>\n",
       "      <th>Shares</th>\n",
       "      <th>Result</th>\n",
       "    </tr>\n",
       "  </thead>\n",
       "  <tbody>\n",
       "    <tr>\n",
       "      <th>Views</th>\n",
       "      <td>1.000000</td>\n",
       "      <td>-0.070904</td>\n",
       "      <td>-0.143247</td>\n",
       "      <td>0.024727</td>\n",
       "      <td>0.168004</td>\n",
       "      <td>0.808635</td>\n",
       "    </tr>\n",
       "    <tr>\n",
       "      <th>Likes</th>\n",
       "      <td>-0.070904</td>\n",
       "      <td>1.000000</td>\n",
       "      <td>0.032145</td>\n",
       "      <td>0.148192</td>\n",
       "      <td>-0.007961</td>\n",
       "      <td>-0.052704</td>\n",
       "    </tr>\n",
       "    <tr>\n",
       "      <th>Dislikes</th>\n",
       "      <td>-0.143247</td>\n",
       "      <td>0.032145</td>\n",
       "      <td>1.000000</td>\n",
       "      <td>0.028556</td>\n",
       "      <td>0.085705</td>\n",
       "      <td>-0.009469</td>\n",
       "    </tr>\n",
       "    <tr>\n",
       "      <th>Comments</th>\n",
       "      <td>0.024727</td>\n",
       "      <td>0.148192</td>\n",
       "      <td>0.028556</td>\n",
       "      <td>1.000000</td>\n",
       "      <td>0.097771</td>\n",
       "      <td>0.129147</td>\n",
       "    </tr>\n",
       "    <tr>\n",
       "      <th>Shares</th>\n",
       "      <td>0.168004</td>\n",
       "      <td>-0.007961</td>\n",
       "      <td>0.085705</td>\n",
       "      <td>0.097771</td>\n",
       "      <td>1.000000</td>\n",
       "      <td>0.256669</td>\n",
       "    </tr>\n",
       "    <tr>\n",
       "      <th>Result</th>\n",
       "      <td>0.808635</td>\n",
       "      <td>-0.052704</td>\n",
       "      <td>-0.009469</td>\n",
       "      <td>0.129147</td>\n",
       "      <td>0.256669</td>\n",
       "      <td>1.000000</td>\n",
       "    </tr>\n",
       "  </tbody>\n",
       "</table>\n",
       "</div>"
      ],
      "text/plain": [
       "             Views     Likes  Dislikes  Comments    Shares    Result\n",
       "Views     1.000000 -0.070904 -0.143247  0.024727  0.168004  0.808635\n",
       "Likes    -0.070904  1.000000  0.032145  0.148192 -0.007961 -0.052704\n",
       "Dislikes -0.143247  0.032145  1.000000  0.028556  0.085705 -0.009469\n",
       "Comments  0.024727  0.148192  0.028556  1.000000  0.097771  0.129147\n",
       "Shares    0.168004 -0.007961  0.085705  0.097771  1.000000  0.256669\n",
       "Result    0.808635 -0.052704 -0.009469  0.129147  0.256669  1.000000"
      ]
     },
     "execution_count": 59,
     "metadata": {},
     "output_type": "execute_result"
    }
   ],
   "source": [
    "dataset.corr()"
   ]
  },
  {
   "cell_type": "code",
   "execution_count": 60,
   "metadata": {},
   "outputs": [
    {
     "data": {
      "image/png": "[encoded data removed]",
      "text/plain": [
       "<Figure size 432x288 with 2 Axes>"
      ]
     },
     "metadata": {
      "needs_background": "light"
     },
     "output_type": "display_data"
    }
   ],
   "source": [
    "\n",
    "import seaborn as sn\n",
    "sn.heatmap(dataset.corr(), annot=True)\n",
    "plt.show()\n",
    "\n",
    "# creating instance of labelencoder\n",
    "from sklearn.preprocessing import LabelEncoder\n",
    "labelencoder = LabelEncoder()\n",
    "# Assigning numerical values and storing in another column\n",
    "dataset['Result'] = labelencoder.fit_transform(dataset['Result'])"
   ]
  },
  {
   "cell_type": "code",
   "execution_count": 61,
   "metadata": {},
   "outputs": [
    {
     "data": {
      "text/html": [
       "<div>\n",
       "<style scoped>\n",
       "    .dataframe tbody tr th:only-of-type {\n",
       "        vertical-align: middle;\n",
       "    }\n",
       "\n",
       "    .dataframe tbody tr th {\n",
       "        vertical-align: top;\n",
       "    }\n",
       "\n",
       "    .dataframe thead th {\n",
       "        text-align: right;\n",
       "    }\n",
       "</style>\n",
       "<table border=\"1\" class=\"dataframe\">\n",
       "  <thead>\n",
       "    <tr style=\"text-align: right;\">\n",
       "      <th></th>\n",
       "      <th>Views</th>\n",
       "      <th>Likes</th>\n",
       "      <th>Dislikes</th>\n",
       "      <th>Comments</th>\n",
       "      <th>Shares</th>\n",
       "      <th>Result</th>\n",
       "    </tr>\n",
       "  </thead>\n",
       "  <tbody>\n",
       "    <tr>\n",
       "      <th>Views</th>\n",
       "      <td>1.000000</td>\n",
       "      <td>-0.070904</td>\n",
       "      <td>-0.143247</td>\n",
       "      <td>0.024727</td>\n",
       "      <td>0.168004</td>\n",
       "      <td>0.808635</td>\n",
       "    </tr>\n",
       "    <tr>\n",
       "      <th>Likes</th>\n",
       "      <td>-0.070904</td>\n",
       "      <td>1.000000</td>\n",
       "      <td>0.032145</td>\n",
       "      <td>0.148192</td>\n",
       "      <td>-0.007961</td>\n",
       "      <td>-0.052704</td>\n",
       "    </tr>\n",
       "    <tr>\n",
       "      <th>Dislikes</th>\n",
       "      <td>-0.143247</td>\n",
       "      <td>0.032145</td>\n",
       "      <td>1.000000</td>\n",
       "      <td>0.028556</td>\n",
       "      <td>0.085705</td>\n",
       "      <td>-0.009469</td>\n",
       "    </tr>\n",
       "    <tr>\n",
       "      <th>Comments</th>\n",
       "      <td>0.024727</td>\n",
       "      <td>0.148192</td>\n",
       "      <td>0.028556</td>\n",
       "      <td>1.000000</td>\n",
       "      <td>0.097771</td>\n",
       "      <td>0.129147</td>\n",
       "    </tr>\n",
       "    <tr>\n",
       "      <th>Shares</th>\n",
       "      <td>0.168004</td>\n",
       "      <td>-0.007961</td>\n",
       "      <td>0.085705</td>\n",
       "      <td>0.097771</td>\n",
       "      <td>1.000000</td>\n",
       "      <td>0.256669</td>\n",
       "    </tr>\n",
       "    <tr>\n",
       "      <th>Result</th>\n",
       "      <td>0.808635</td>\n",
       "      <td>-0.052704</td>\n",
       "      <td>-0.009469</td>\n",
       "      <td>0.129147</td>\n",
       "      <td>0.256669</td>\n",
       "      <td>1.000000</td>\n",
       "    </tr>\n",
       "  </tbody>\n",
       "</table>\n",
       "</div>"
      ],
      "text/plain": [
       "             Views     Likes  Dislikes  Comments    Shares    Result\n",
       "Views     1.000000 -0.070904 -0.143247  0.024727  0.168004  0.808635\n",
       "Likes    -0.070904  1.000000  0.032145  0.148192 -0.007961 -0.052704\n",
       "Dislikes -0.143247  0.032145  1.000000  0.028556  0.085705 -0.009469\n",
       "Comments  0.024727  0.148192  0.028556  1.000000  0.097771  0.129147\n",
       "Shares    0.168004 -0.007961  0.085705  0.097771  1.000000  0.256669\n",
       "Result    0.808635 -0.052704 -0.009469  0.129147  0.256669  1.000000"
      ]
     },
     "execution_count": 61,
     "metadata": {},
     "output_type": "execute_result"
    }
   ],
   "source": [
    "dataset.corr()"
   ]
  },
  {
   "cell_type": "code",
   "execution_count": 62,
   "metadata": {},
   "outputs": [
    {
     "data": {
      "text/plain": [
       "0.2566691700435224"
      ]
     },
     "execution_count": 62,
     "metadata": {},
     "output_type": "execute_result"
    }
   ],
   "source": [
    "dataset['Shares'].corr(dataset['Result'])\n"
   ]
  },
  {
   "cell_type": "code",
   "execution_count": 63,
   "metadata": {},
   "outputs": [
    {
     "data": {
      "text/plain": [
       "StandardScaler()"
      ]
     },
     "execution_count": 63,
     "metadata": {},
     "output_type": "execute_result"
    }
   ],
   "source": [
    "from sklearn.preprocessing import StandardScaler\n",
    "scaler = StandardScaler()\n",
    "scaler.fit(dataset)"
   ]
  },
  {
   "cell_type": "code",
   "execution_count": 66,
   "metadata": {},
   "outputs": [],
   "source": [
    "X = dataset.iloc[:, [0, 4]].values\n",
    "y = dataset.iloc[:, 5].values"
   ]
  },
  {
   "cell_type": "code",
   "execution_count": 67,
   "metadata": {},
   "outputs": [],
   "source": [
    "from sklearn.model_selection import train_test_split\n",
    "\n",
    "X_train, X_test, y_train, y_test = train_test_split(X, y, test_size=0.20, random_state=42,shuffle=True)\n"
   ]
  },
  {
   "cell_type": "code",
   "execution_count": null,
   "metadata": {},
   "outputs": [],
   "source": []
  },
  {
   "cell_type": "code",
   "execution_count": 68,
   "metadata": {},
   "outputs": [
    {
     "data": {
      "text/plain": [
       "array([5.86716e+03, 5.00270e+02, 4.67570e+02, 8.23620e+02, 7.96180e+02,\n",
       "       6.80000e-01])"
      ]
     },
     "execution_count": 68,
     "metadata": {},
     "output_type": "execute_result"
    }
   ],
   "source": [
    "scaler.mean_"
   ]
  },
  {
   "cell_type": "markdown",
   "metadata": {},
   "source": [
    "# Random Forest Classifier"
   ]
  },
  {
   "cell_type": "code",
   "execution_count": 69,
   "metadata": {},
   "outputs": [
    {
     "name": "stderr",
     "output_type": "stream",
     "text": [
      "[Parallel(n_jobs=-1)]: Using backend ThreadingBackend with 8 concurrent workers.\n",
      "[Parallel(n_jobs=-1)]: Done  34 tasks      | elapsed:    0.2s\n",
      "[Parallel(n_jobs=-1)]: Done 184 tasks      | elapsed:    0.9s\n",
      "[Parallel(n_jobs=-1)]: Done 434 tasks      | elapsed:    1.9s\n",
      "[Parallel(n_jobs=-1)]: Done 784 tasks      | elapsed:    3.3s\n",
      "[Parallel(n_jobs=-1)]: Done 1000 out of 1000 | elapsed:    4.1s finished\n",
      "[Parallel(n_jobs=8)]: Using backend ThreadingBackend with 8 concurrent workers.\n",
      "[Parallel(n_jobs=8)]: Done  34 tasks      | elapsed:    0.0s\n",
      "[Parallel(n_jobs=8)]: Done 184 tasks      | elapsed:    0.1s\n",
      "[Parallel(n_jobs=8)]: Done 434 tasks      | elapsed:    0.3s\n"
     ]
    },
    {
     "name": "stdout",
     "output_type": "stream",
     "text": [
      "Recall Score :  0.95\n",
      "\n",
      " Classification Report:\n",
      "               precision    recall  f1-score   support\n",
      "\n",
      "           0       0.89      1.00      0.94         8\n",
      "           1       1.00      0.92      0.96        12\n",
      "\n",
      "    accuracy                           0.95        20\n",
      "   macro avg       0.94      0.96      0.95        20\n",
      "weighted avg       0.96      0.95      0.95        20\n",
      "\n"
     ]
    },
    {
     "name": "stderr",
     "output_type": "stream",
     "text": [
      "[Parallel(n_jobs=8)]: Done 784 tasks      | elapsed:    0.6s\n",
      "[Parallel(n_jobs=8)]: Done 1000 out of 1000 | elapsed:    0.7s finished\n",
      "C:\\ProgramData\\Anaconda3\\lib\\site-packages\\sklearn\\metrics\\_classification.py:1298: UserWarning: Note that pos_label (set to 'positive') is ignored when average != 'binary' (got 'micro'). You may use labels=[pos_label] to specify a single positive class.\n",
      "  warnings.warn(\"Note that pos_label (set to %r) is ignored when \"\n"
     ]
    }
   ],
   "source": [
    "from sklearn.ensemble import RandomForestClassifier\n",
    "from sklearn.metrics import accuracy_score, recall_score, classification_report, cohen_kappa_score\n",
    "from sklearn import metrics \n",
    "\n",
    "# Baseline Random forest based Model\n",
    "rfc = RandomForestClassifier(criterion = 'gini', n_estimators=1000, verbose=1, n_jobs = -1, \n",
    "                             class_weight = 'balanced', max_features = 'auto')\n",
    "rfcg = rfc.fit(X_train,y_train) # fit on training data\n",
    "predictions = rfcg.predict(X_test)\n",
    "\n",
    "#print('Baseline: N_features: ', len(list(X.columns)))\n",
    "print(\"Recall Score : \",recall_score(y_test, predictions, \n",
    "                                           pos_label='positive',\n",
    "                                           average='micro'))\n",
    "print('\\n Classification Report:\\n', classification_report(y_test,predictions))"
   ]
  },
  {
   "cell_type": "code",
   "execution_count": 70,
   "metadata": {},
   "outputs": [],
   "source": [
    "from sklearn.metrics import confusion_matrix\n"
   ]
  },
  {
   "cell_type": "code",
   "execution_count": 71,
   "metadata": {},
   "outputs": [
    {
     "name": "stdout",
     "output_type": "stream",
     "text": [
      "[[ 8  0]\n",
      " [ 1 11]]\n"
     ]
    }
   ],
   "source": [
    "# Compute confusion matrix\n",
    "cnf_matrix = confusion_matrix(y_test, predictions)\n",
    "np.set_printoptions(precision=2)\n",
    "\n",
    "\n",
    "# Plot non-normalized confusion matrix\n",
    "print (metrics.confusion_matrix(y_test, predictions))"
   ]
  },
  {
   "cell_type": "code",
   "execution_count": 72,
   "metadata": {},
   "outputs": [
    {
     "name": "stdout",
     "output_type": "stream",
     "text": [
      "Confusion matrix\n",
      "[[ 8  0]\n",
      " [ 1 11]]\n"
     ]
    },
    {
     "data": {
      "text/plain": [
       "<Figure size 432x288 with 0 Axes>"
      ]
     },
     "metadata": {},
     "output_type": "display_data"
    },
    {
     "data": {
      "image/png": "[encoded data removed]",
      "text/plain": [
       "<Figure size 720x432 with 2 Axes>"
      ]
     },
     "metadata": {
      "needs_background": "light"
     },
     "output_type": "display_data"
    }
   ],
   "source": [
    "from sklearn.metrics import confusion_matrix\n",
    "\n",
    "import itertools\n",
    "\n",
    "#Evaluation of Model - Confusion Matrix Plot\n",
    "def plot_confusion_matrix(cm, classes, title ='Confusion matrix', normalize=False, cmap = plt.cm.Blues):\n",
    "    \"\"\"\n",
    "    This function prints and plots the confusion matrix.\n",
    "    Normalization can be applied by setting `normalize=True`.\n",
    "    \"\"\"\n",
    "    print('Confusion matrix')\n",
    "\n",
    "    print(cm)\n",
    "\n",
    "    fig = plt.figure(figsize=(10,6))\n",
    "    plt.style.use('fivethirtyeight')\n",
    "    plt.imshow(cm, interpolation='nearest', cmap=cmap)\n",
    "    plt.title(title)\n",
    "    plt.colorbar()\n",
    "    tick_marks = np.arange(len(classes))\n",
    "    plt.xticks(tick_marks, classes, rotation=45)\n",
    "    plt.yticks(tick_marks, classes)\n",
    "\n",
    "    fmt = '.2f' if normalize else 'd'\n",
    "    thresh = cm.max() / 2.\n",
    "    for i, j in itertools.product(range(cm.shape[0]), range(cm.shape[1])):\n",
    "        plt.text(j, i, format(cm[i, j], fmt),\n",
    "                 horizontalalignment=\"center\",\n",
    "                 color=\"white\" if cm[i, j] > thresh else \"black\")\n",
    "\n",
    "    plt.ylabel('True label')\n",
    "    plt.xlabel('Predicted label')\n",
    "    plt.tight_layout()\n",
    "    \n",
    "# Compute confusion matrix\n",
    "cnf_matrix = confusion_matrix(y_test, predictions)\n",
    "np.set_printoptions(precision=3)\n",
    "\n",
    "\n",
    "# Plot non-normalized confusion matrix\n",
    "plt.figure()\n",
    "plot_confusion_matrix(cnf_matrix, classes=['setosa','versicolor','virginica'],\n",
    "                      title='Random Forest-Confusion matrix')"
   ]
  },
  {
   "cell_type": "code",
   "execution_count": 73,
   "metadata": {},
   "outputs": [
    {
     "name": "stdout",
     "output_type": "stream",
     "text": [
      "Recall Score :  0.95\n",
      "\n",
      " Classification Report:\n",
      "               precision    recall  f1-score   support\n",
      "\n",
      "           0       0.89      1.00      0.94         8\n",
      "           1       1.00      0.92      0.96        12\n",
      "\n",
      "    accuracy                           0.95        20\n",
      "   macro avg       0.94      0.96      0.95        20\n",
      "weighted avg       0.96      0.95      0.95        20\n",
      "\n"
     ]
    },
    {
     "name": "stderr",
     "output_type": "stream",
     "text": [
      "C:\\ProgramData\\Anaconda3\\lib\\site-packages\\sklearn\\metrics\\_classification.py:1298: UserWarning: Note that pos_label (set to 'positive') is ignored when average != 'binary' (got 'micro'). You may use labels=[pos_label] to specify a single positive class.\n",
      "  warnings.warn(\"Note that pos_label (set to %r) is ignored when \"\n"
     ]
    }
   ],
   "source": [
    "from sklearn.naive_bayes import GaussianNB\n",
    "from sklearn.metrics import accuracy_score, recall_score, classification_report, cohen_kappa_score\n",
    "from sklearn import metrics \n",
    "\n",
    "# Baseline Random forest based Model\n",
    "gnb = GaussianNB()\n",
    "gnbn = gnb.fit(X_train, y_train)\n",
    "predictions= gnbn.predict(X_test)\n",
    "#print('Baseline: N_features: ', len(list(X.columns)))\n",
    "print(\"Recall Score : \",recall_score(y_test, predictions, \n",
    "                                           pos_label='positive',\n",
    "                                           average='micro'))\n",
    "print('\\n Classification Report:\\n', classification_report(y_test,predictions))"
   ]
  },
  {
   "cell_type": "code",
   "execution_count": 74,
   "metadata": {},
   "outputs": [],
   "source": [
    "from sklearn.metrics import confusion_matrix"
   ]
  },
  {
   "cell_type": "code",
   "execution_count": 75,
   "metadata": {},
   "outputs": [
    {
     "name": "stdout",
     "output_type": "stream",
     "text": [
      "[[ 8  0]\n",
      " [ 1 11]]\n"
     ]
    }
   ],
   "source": [
    "# Compute confusion matrix\n",
    "cnf_matrix = confusion_matrix(y_test, predictions)\n",
    "np.set_printoptions(precision=2)\n",
    "\n",
    "\n",
    "# Plot non-normalized confusion matrix\n",
    "print (metrics.confusion_matrix(y_test, predictions))"
   ]
  },
  {
   "cell_type": "code",
   "execution_count": 76,
   "metadata": {},
   "outputs": [
    {
     "name": "stdout",
     "output_type": "stream",
     "text": [
      "Confusion matrix\n",
      "[[ 8  0]\n",
      " [ 1 11]]\n"
     ]
    },
    {
     "data": {
      "text/plain": [
       "<Figure size 432x288 with 0 Axes>"
      ]
     },
     "metadata": {},
     "output_type": "display_data"
    },
    {
     "data": {
      "image/png": "[encoded data removed]",
      "text/plain": [
       "<Figure size 720x432 with 2 Axes>"
      ]
     },
     "metadata": {},
     "output_type": "display_data"
    }
   ],
   "source": [
    "from sklearn.metrics import confusion_matrix\n",
    "\n",
    "import itertools\n",
    "\n",
    "#Evaluation of Model - Confusion Matrix Plot\n",
    "def plot_confusion_matrix(cm, classes, title ='Confusion matrix', normalize=False, cmap = plt.cm.Blues):\n",
    "    \"\"\"\n",
    "    This function prints and plots the confusion matrix.\n",
    "    Normalization can be applied by setting `normalize=True`.\n",
    "    \"\"\"\n",
    "    print('Confusion matrix')\n",
    "\n",
    "    print(cm)\n",
    "\n",
    "    fig = plt.figure(figsize=(10,6))\n",
    "    plt.style.use('fivethirtyeight')\n",
    "    plt.imshow(cm, interpolation='nearest', cmap=cmap)\n",
    "    plt.title(title)\n",
    "    plt.colorbar()\n",
    "    tick_marks = np.arange(len(classes))\n",
    "    plt.xticks(tick_marks, classes, rotation=45)\n",
    "    plt.yticks(tick_marks, classes)\n",
    "\n",
    "    fmt = '.2f' if normalize else 'd'\n",
    "    thresh = cm.max() / 2.\n",
    "    for i, j in itertools.product(range(cm.shape[0]), range(cm.shape[1])):\n",
    "        plt.text(j, i, format(cm[i, j], fmt),\n",
    "                 horizontalalignment=\"center\",\n",
    "                 color=\"white\" if cm[i, j] > thresh else \"black\")\n",
    "\n",
    "    plt.ylabel('True label')\n",
    "    plt.xlabel('Predicted label')\n",
    "    plt.tight_layout()\n",
    "    \n",
    "# Compute confusion matrix\n",
    "cnf_matrix = confusion_matrix(y_test, predictions)\n",
    "np.set_printoptions(precision=3)\n",
    "\n",
    "\n",
    "# Plot non-normalized confusion matrix\n",
    "plt.figure()\n",
    "plot_confusion_matrix(cnf_matrix, classes=['setosa','versicolor','virginica'],\n",
    "                      title='Naive Bayes-Confusion matrix')"
   ]
  },
  {
   "cell_type": "code",
   "execution_count": 77,
   "metadata": {},
   "outputs": [
    {
     "name": "stdout",
     "output_type": "stream",
     "text": [
      "Accuracy: 0.95\n"
     ]
    }
   ],
   "source": [
    "#Import scikit-learn metrics module for accuracy calculation\n",
    "from sklearn import metrics\n",
    "\n",
    "# Model Accuracy, how often is the classifier correct?\n",
    "print(\"Accuracy:\",metrics.accuracy_score(y_test, predictions))"
   ]
  },
  {
   "cell_type": "code",
   "execution_count": null,
   "metadata": {},
   "outputs": [],
   "source": []
  },
  {
   "cell_type": "code",
   "execution_count": null,
   "metadata": {},
   "outputs": [],
   "source": []
  }
 ],
 "metadata": {
  "kernelspec": {
   "display_name": "Python 3 (ipykernel)",
   "language": "python",
   "name": "python3"
  },
  "language_info": {
   "codemirror_mode": {
    "name": "ipython",
    "version": 3
   },
   "file_extension": ".py",
   "mimetype": "text/x-python",
   "name": "python",
   "nbconvert_exporter": "python",
   "pygments_lexer": "ipython3",
   "version": "3.9.7"
  }
 },
 "nbformat": 4,
 "nbformat_minor": 2
}
